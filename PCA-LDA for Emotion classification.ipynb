{
  "metadata": {
    "kernelspec": {
      "language": "python",
      "display_name": "Python 3",
      "name": "python3"
    },
    "language_info": {
      "name": "python",
      "version": "3.7.12",
      "mimetype": "text/x-python",
      "codemirror_mode": {
        "name": "ipython",
        "version": 3
      },
      "pygments_lexer": "ipython3",
      "nbconvert_exporter": "python",
      "file_extension": ".py"
    },
    "colab": {
      "name": "EmotionClassification using LDA.ipynb",
      "provenance": [],
      "collapsed_sections": []
    }
  },
  "nbformat_minor": 0,
  "nbformat": 4,
  "cells": [
    {
      "cell_type": "markdown",
      "source": [
        "Functions Used:\n",
        "1.   **LoadImages**: is used to load all the images inside the folders and them to vectors. It returns the matrix containing the vector of each images of the folderconvert \n",
        "\n",
        "***Note:* We need to run the program and give the value of K (atmost 20) to learn the model**"
      ],
      "metadata": {
        "id": "dTRxXM0v6J_K"
      }
    },
    {
      "cell_type": "code",
      "source": [
        "%matplotlib inline\n",
        "\n"
      ],
      "metadata": {
        "id": "HSEf_eXY6asg"
      },
      "execution_count": 62,
      "outputs": []
    },
    {
      "cell_type": "code",
      "source": [
        "from google.colab import drive\n",
        "drive.mount('/content/drive')"
      ],
      "metadata": {
        "colab": {
          "base_uri": "https://localhost:8080/"
        },
        "id": "clCDJBpV7Du_",
        "outputId": "d2595324-2d7f-413c-ad04-6dec0d1ad2fd"
      },
      "execution_count": 63,
      "outputs": [
        {
          "output_type": "stream",
          "name": "stdout",
          "text": [
            "Drive already mounted at /content/drive; to attempt to forcibly remount, call drive.mount(\"/content/drive\", force_remount=True).\n"
          ]
        }
      ]
    },
    {
      "cell_type": "code",
      "source": [
        "%cd /content/drive/MyDrive/MLSP/Assignments/Assignment 1/Data/emotion_classification"
      ],
      "metadata": {
        "colab": {
          "base_uri": "https://localhost:8080/"
        },
        "id": "TbVVraH57JLk",
        "outputId": "bfe8e2a1-fd9c-4367-c651-6a7e8ec98899"
      },
      "execution_count": 64,
      "outputs": [
        {
          "output_type": "stream",
          "name": "stdout",
          "text": [
            "/content/drive/MyDrive/MLSP/Assignments/Assignment 1/Data/emotion_classification\n"
          ]
        }
      ]
    },
    {
      "cell_type": "code",
      "source": [
        "import os\n",
        "from PIL import Image\n",
        "import math\n",
        "import numpy as np\n",
        "from numpy import asarray\n",
        "import matplotlib.pyplot as plt\n",
        "def LoadImages(directory):\n",
        "    Data_Samples=np.array([])\n",
        "    label=[]\n",
        "    flag=0\n",
        "    for fname in os.scandir(directory):\n",
        "        if fname.is_file():\n",
        "            if str(fname).count(\"gif\") == 0:\n",
        "                continue\n",
        "            fname = str(fname.path).split(\"/\")[-1]\n",
        "            img = asarray(Image.open(directory + \"/\" + fname), dtype=float)\n",
        "            img = np.reshape(img, (1, img.shape[0]*img.shape[0]))\n",
        "            label.append(fname.split(\".\")[1])\n",
        "            if flag==0:\n",
        "                Data_Samples = np.array(img, copy=True)\n",
        "                flag=1\n",
        "            else:\n",
        "                Data_Samples = np.vstack((Data_Samples, img))\n",
        "    return Data_Samples,label\n",
        "directory = '/content/drive/MyDrive/MLSP/Assignments/Assignment 1/Data/emotion_classification/train'\n",
        "\n",
        "#Loading the training images and finding N= no of samples, D=dimension of the samples\n",
        "Original_Data_Samples,labels=LoadImages(directory)\n",
        "N=Original_Data_Samples.shape[0]\n",
        "D=Original_Data_Samples.shape[1]\n",
        "\n",
        "mean=np.mean(Original_Data_Samples,axis=0)\n",
        "\n",
        "Original_Data_Samples=Original_Data_Samples-mean\n",
        "dataSampleTranspose=Original_Data_Samples.T"
      ],
      "metadata": {
        "execution": {
          "iopub.status.busy": "2022-02-06T17:18:38.983892Z",
          "iopub.execute_input": "2022-02-06T17:18:38.984732Z",
          "iopub.status.idle": "2022-02-06T17:18:39.024049Z",
          "shell.execute_reply.started": "2022-02-06T17:18:38.984696Z",
          "shell.execute_reply": "2022-02-06T17:18:39.023274Z"
        },
        "trusted": true,
        "id": "QdKFcw_D6J_N"
      },
      "execution_count": 65,
      "outputs": []
    },
    {
      "cell_type": "code",
      "source": [
        "#Here the projection matrix for the PCA is calculated\n",
        "Data_Cov= (Original_Data_Samples @ dataSampleTranspose)/N\n",
        "eigenValues,eigenVectores = np.linalg.eigh(Data_Cov)\n",
        "eigenDictionary = {eigenValues[i]: eigenVectores[i] for i in range(len(eigenValues))}\n",
        "\n",
        "eigenValues=sorted(eigenValues,reverse=True)\n",
        "\n",
        "Proj_Matrix=np.array([])\n",
        "KDIM=int(input(\"Enter the no of reduced dimension i.e K value:\"))\n",
        "for i in range(0,KDIM):\n",
        "    if i==0:\n",
        "        eigen = np.reshape(eigenDictionary[eigenValues[0]], (20, 1))\n",
        "        eigenvector = (dataSampleTranspose  @ eigen) / math.sqrt((eigenValues[0] * N))\n",
        "        Proj_Matrix = np.array(eigenvector, copy=True)\n",
        "    else:\n",
        "        eigen = np.reshape(eigenDictionary[eigenValues[i]], (20, 1))\n",
        "        eigenvector=(dataSampleTranspose  @ eigen)  / math.sqrt((eigenValues[i] * N))\n",
        "        Proj_Matrix = np.vstack((Proj_Matrix,eigenvector))\n",
        "\n"
      ],
      "metadata": {
        "execution": {
          "iopub.status.busy": "2022-02-06T17:18:39.025420Z",
          "iopub.execute_input": "2022-02-06T17:18:39.025976Z",
          "iopub.status.idle": "2022-02-06T17:18:43.865414Z",
          "shell.execute_reply.started": "2022-02-06T17:18:39.025944Z",
          "shell.execute_reply": "2022-02-06T17:18:43.864492Z"
        },
        "trusted": true,
        "colab": {
          "base_uri": "https://localhost:8080/"
        },
        "id": "Hb7pPMIK6J_O",
        "outputId": "01ebc6cb-f477-47a4-afdf-34c0679c2588"
      },
      "execution_count": 66,
      "outputs": [
        {
          "name": "stdout",
          "output_type": "stream",
          "text": [
            "Enter the no of reduced dimension i.e K value:18\n"
          ]
        }
      ]
    },
    {
      "cell_type": "code",
      "source": [
        "#Here the training data is projected onto the PCA projection matrix calculated above\n",
        "PCA_Transformed_Data=np.array([])\n",
        "Proj_Matrix=np.reshape(Proj_Matrix,(KDIM,D))\n",
        "for i in range(0, len(Original_Data_Samples)):\n",
        "    if i==0:\n",
        "        data = np.reshape(Original_Data_Samples[i], (1, D))\n",
        "        PCA_Transformed_Data=np.array(Proj_Matrix @ data.T, copy=True)\n",
        "    else:\n",
        "        data = np.reshape(Original_Data_Samples[i], (1, D))\n",
        "        PCA_Transformed_Data = np.vstack((PCA_Transformed_Data,Proj_Matrix @ data.T))\n",
        "PCA_Transformed_Data=np.reshape(PCA_Transformed_Data,(20,KDIM))"
      ],
      "metadata": {
        "execution": {
          "iopub.status.busy": "2022-02-06T17:18:43.867020Z",
          "iopub.execute_input": "2022-02-06T17:18:43.867905Z",
          "iopub.status.idle": "2022-02-06T17:18:43.879594Z",
          "shell.execute_reply.started": "2022-02-06T17:18:43.867858Z",
          "shell.execute_reply": "2022-02-06T17:18:43.878494Z"
        },
        "trusted": true,
        "id": "z16ep8C46J_P"
      },
      "execution_count": 67,
      "outputs": []
    },
    {
      "cell_type": "code",
      "source": [
        "#Finding the covariance of each class of the training data\n",
        "m1,m2 = np.empty((1,KDIM), dtype=float), np.empty((1,KDIM), dtype=float)\n",
        "Sad_N,Happy_N=0,0\n",
        "for i in range(0,N):\n",
        "    if labels[i]==\"sad\":\n",
        "        A=np.reshape(PCA_Transformed_Data[i],(1,PCA_Transformed_Data[i].shape[0]))\n",
        "        m1 = m1+ A\n",
        "        Sad_N+=1\n",
        "    elif labels[i]==\"happy\":\n",
        "        A=np.reshape(PCA_Transformed_Data[i],(1,PCA_Transformed_Data[i].shape[0]))\n",
        "        m2 = m2+ A\n",
        "        Happy_N+=1\n",
        "m1,m2 =m1/Sad_N,m2/Happy_N\n",
        "S_w_Sad,S_w_Happy = np.array([]),np.array([])\n",
        "for i in range(0,N):\n",
        "    flag = not np.any(S_w_Happy)\n",
        "    if labels[i]==\"happy\":\n",
        "        if flag:\n",
        "            A = np.reshape(PCA_Transformed_Data[i], (1, PCA_Transformed_Data[i].shape[0]))\n",
        "            S_w_Happy = np.dot((A - m2).transpose(), A - m2)\n",
        "        else:\n",
        "            A = np.reshape(PCA_Transformed_Data[i], (1, PCA_Transformed_Data[i].shape[0]))\n",
        "            S_w_Happy = np.add(S_w_Happy, np.dot((A - m2).transpose(), A - m2))\n",
        "    flag = not np.any(S_w_Sad)\n",
        "    if labels[i]==\"sad\":\n",
        "        if flag:\n",
        "            A = np.reshape(PCA_Transformed_Data[i], (1, PCA_Transformed_Data[i].shape[0]))\n",
        "            S_w_Sad = np.dot((A - m1).transpose(),A - m1)\n",
        "        else:\n",
        "            A = np.reshape(PCA_Transformed_Data[i], (1, PCA_Transformed_Data[i].shape[0]))\n",
        "            S_w_Sad = np.add(S_w_Sad, np.dot((A - m1).transpose(),A - m1 ))\n"
      ],
      "metadata": {
        "execution": {
          "iopub.status.busy": "2022-02-06T17:18:43.882631Z",
          "iopub.execute_input": "2022-02-06T17:18:43.883336Z",
          "iopub.status.idle": "2022-02-06T17:18:43.905103Z",
          "shell.execute_reply.started": "2022-02-06T17:18:43.883289Z",
          "shell.execute_reply": "2022-02-06T17:18:43.904188Z"
        },
        "trusted": true,
        "id": "gYBevdAp6J_Q"
      },
      "execution_count": 68,
      "outputs": []
    },
    {
      "cell_type": "code",
      "source": [
        "#Finding the within class covariance matrix\n",
        "S_w=S_w_Sad+S_w_Happy\n",
        "\n",
        "#Calculating the LDA projection matrix\n",
        "w=np.dot(np.linalg.inv(S_w),(m2-m1).transpose())\n",
        "w/=np.linalg.norm(w)"
      ],
      "metadata": {
        "execution": {
          "iopub.status.busy": "2022-02-06T17:18:43.906503Z",
          "iopub.execute_input": "2022-02-06T17:18:43.907367Z",
          "iopub.status.idle": "2022-02-06T17:18:43.920410Z",
          "shell.execute_reply.started": "2022-02-06T17:18:43.907325Z",
          "shell.execute_reply": "2022-02-06T17:18:43.919502Z"
        },
        "trusted": true,
        "id": "Cx5LhDDW6J_Q"
      },
      "execution_count": 69,
      "outputs": []
    },
    {
      "cell_type": "code",
      "source": [
        "#Projecting the PCA projected data onto the LDA projection matrix calculated above\n",
        "data = np.reshape(PCA_Transformed_Data[0], (1, PCA_Transformed_Data[0].shape[0]))\n",
        "LDA_Transformed_Data=np.array(w.transpose() @ data.transpose(), copy=True)\n",
        "for i in range(1,len(PCA_Transformed_Data)):\n",
        "    data = np.reshape(PCA_Transformed_Data[i], (1, PCA_Transformed_Data[i].shape[0]))\n",
        "    LDA_Transformed_Data = np.vstack((LDA_Transformed_Data,w.transpose() @ data.transpose()))"
      ],
      "metadata": {
        "execution": {
          "iopub.status.busy": "2022-02-06T17:18:43.925678Z",
          "iopub.execute_input": "2022-02-06T17:18:43.928439Z",
          "iopub.status.idle": "2022-02-06T17:18:43.938925Z",
          "shell.execute_reply.started": "2022-02-06T17:18:43.928228Z",
          "shell.execute_reply": "2022-02-06T17:18:43.938137Z"
        },
        "trusted": true,
        "id": "2XHadae06J_R"
      },
      "execution_count": 70,
      "outputs": []
    },
    {
      "cell_type": "code",
      "source": [
        "#Calculating the means of each LDA projected classes\n",
        "final_Threshold1=0;\n",
        "final_Threshold2=0;\n",
        "sad_training=[]\n",
        "happy_training=[]\n",
        "\n",
        "for i in range(0,len(LDA_Transformed_Data)):\n",
        "    if labels[i]==\"sad\":\n",
        "        sad_training.append(LDA_Transformed_Data[i])\n",
        "        final_Threshold1+= LDA_Transformed_Data[i]\n",
        "    elif labels[i]==\"happy\":\n",
        "        happy_training.append(LDA_Transformed_Data[i])\n",
        "        final_Threshold2+= LDA_Transformed_Data[i]\n",
        "final_Threshold1=final_Threshold1/Sad_N\n",
        "final_Threshold2=final_Threshold2/Happy_N"
      ],
      "metadata": {
        "execution": {
          "iopub.status.busy": "2022-02-06T17:18:43.944222Z",
          "iopub.execute_input": "2022-02-06T17:18:43.947003Z",
          "iopub.status.idle": "2022-02-06T17:18:43.957518Z",
          "shell.execute_reply.started": "2022-02-06T17:18:43.946952Z",
          "shell.execute_reply": "2022-02-06T17:18:43.956619Z"
        },
        "trusted": true,
        "id": "MmR1ZFDU6J_R"
      },
      "execution_count": 71,
      "outputs": []
    },
    {
      "cell_type": "code",
      "source": [
        "#Loading the test data samples\n",
        "Test_Data=np.array([])\n",
        "Test_Labels=[]\n",
        "directory = '/content/drive/MyDrive/MLSP/Assignments/Assignment 1/Data/emotion_classification/test'\n",
        "Test_Data,Test_Labels=LoadImages(directory)"
      ],
      "metadata": {
        "execution": {
          "iopub.status.busy": "2022-02-06T17:18:43.962787Z",
          "iopub.execute_input": "2022-02-06T17:18:43.965631Z",
          "iopub.status.idle": "2022-02-06T17:18:43.990005Z",
          "shell.execute_reply.started": "2022-02-06T17:18:43.965566Z",
          "shell.execute_reply": "2022-02-06T17:18:43.989135Z"
        },
        "trusted": true,
        "id": "fwf0pFur6J_S"
      },
      "execution_count": 72,
      "outputs": []
    },
    {
      "cell_type": "code",
      "source": [
        "#Projecting the test data onto the PCA projection matrix calculated above\n",
        "data = np.reshape(Test_Data[0], (1, D))\n",
        "PCA_Test_Data=np.array(Proj_Matrix @ data.T, copy=True)\n",
        "for i in range(1,len(Test_Data)):\n",
        "    data = np.reshape(Test_Data[i], (1, D))\n",
        "    PCA_Test_Data = np.vstack((PCA_Test_Data,Proj_Matrix @ data.T))\n",
        "PCA_Test_Data=np.reshape(PCA_Test_Data,(10,KDIM))"
      ],
      "metadata": {
        "execution": {
          "iopub.status.busy": "2022-02-06T17:18:43.996903Z",
          "iopub.execute_input": "2022-02-06T17:18:43.999635Z",
          "iopub.status.idle": "2022-02-06T17:18:44.009749Z",
          "shell.execute_reply.started": "2022-02-06T17:18:43.999574Z",
          "shell.execute_reply": "2022-02-06T17:18:44.009244Z"
        },
        "trusted": true,
        "id": "gSNxuUKi6J_S"
      },
      "execution_count": 73,
      "outputs": []
    },
    {
      "cell_type": "code",
      "source": [
        "#Projecting the PCA projected test data onto the LDA projection matrix calculated above\n",
        "data = np.reshape(PCA_Test_Data[0], (1, PCA_Test_Data[0].shape[0]))\n",
        "LDA_Transformed_Test_Data=np.dot(w.transpose(), data.transpose())\n",
        "for i in range(1,len(PCA_Test_Data)):\n",
        "    data = np.reshape(PCA_Test_Data[i], (1, PCA_Test_Data[i].shape[0]))\n",
        "    LDA_Transformed_Test_Data = np.vstack((LDA_Transformed_Test_Data,(w.transpose()@ data.transpose())))"
      ],
      "metadata": {
        "execution": {
          "iopub.status.busy": "2022-02-06T17:18:44.014927Z",
          "iopub.execute_input": "2022-02-06T17:18:44.015453Z",
          "iopub.status.idle": "2022-02-06T17:18:44.028381Z",
          "shell.execute_reply.started": "2022-02-06T17:18:44.015406Z",
          "shell.execute_reply": "2022-02-06T17:18:44.027496Z"
        },
        "trusted": true,
        "id": "AyAQV_G76J_T"
      },
      "execution_count": 74,
      "outputs": []
    },
    {
      "cell_type": "code",
      "source": [
        "#Predicting the labels of each sample of the test data by a predicting rule\n",
        "passed=0\n",
        "Sad_Prediction=[]\n",
        "Happy_Prediction=[]\n",
        "final_Threshold=(final_Threshold1+final_Threshold2)/2\n",
        "\n",
        "for i in range(0,len(LDA_Transformed_Test_Data)):\n",
        "    if final_Threshold<=float(LDA_Transformed_Test_Data[i]):\n",
        "        if Test_Labels[i]==\"happy\":\n",
        "            Happy_Prediction.append(LDA_Transformed_Test_Data[i])\n",
        "            passed+=1\n",
        "        else:\n",
        "            Sad_Prediction.append(LDA_Transformed_Test_Data[i])\n",
        "\n",
        "    else:\n",
        "        if Test_Labels[i]==\"sad\":\n",
        "            Sad_Prediction.append(LDA_Transformed_Test_Data[i])\n",
        "            passed+=1\n",
        "        else:\n",
        "            Happy_Prediction.append(LDA_Transformed_Test_Data[i])\n",
        "\n",
        "plt.scatter(list( LDA_Transformed_Data),labels)\n",
        "plt.title(\" One dimensional feature vectors of each image of the Training data when K= {0}\".format(KDIM))\n",
        "\n",
        "plt.xlabel(\"Feature Vectors\")\n",
        "plt.ylabel(\"Labels of the data\")\n",
        "plt.show()\n",
        "\n",
        "\n",
        "plt.scatter(x=list(Happy_Prediction),y=[\"happy\"]*len(list(Happy_Prediction)),color=\"green\")\n",
        "plt.scatter(x=list(Sad_Prediction),y=[\"sad\"]*len(list(Sad_Prediction)), color=\"red\")\n",
        "plt.title(\"One dimensional feature vectors of each image of the Training data when K={0}\".format(KDIM))\n",
        "plt.vlines(final_Threshold, -1, 1, colors='y', linestyles='--', label='Threshold')\n",
        "plt.xlabel(\"Feature Vectors\")\n",
        "plt.legend()\n",
        "plt.show()\n",
        "\n",
        "\n",
        "print(\"Accuracy rate of the model when k= {0} : {1} %\".format(KDIM,(passed/len(Test_Labels))*100))\n",
        "print(\"Separation between Happy and Sad classes when k= {0} : {1}\".format(KDIM,float(((min(happy_training)-max(sad_training))))))\n"
      ],
      "metadata": {
        "execution": {
          "iopub.status.busy": "2022-02-06T17:18:44.034210Z",
          "iopub.execute_input": "2022-02-06T17:18:44.037138Z",
          "iopub.status.idle": "2022-02-06T17:18:44.411972Z",
          "shell.execute_reply.started": "2022-02-06T17:18:44.037057Z",
          "shell.execute_reply": "2022-02-06T17:18:44.411092Z"
        },
        "trusted": true,
        "colab": {
          "base_uri": "https://localhost:8080/",
          "height": 609
        },
        "id": "PQbcckyU6J_T",
        "outputId": "494286a9-4c1a-4583-829b-5f80715f20de"
      },
      "execution_count": 75,
      "outputs": [
        {
          "output_type": "display_data",
          "data": {
            "text/plain": [
              "<Figure size 432x288 with 1 Axes>"
            ],
            "image/png": "[encoded data removed]"
          },
          "metadata": {
            "needs_background": "light"
          }
        },
        {
          "output_type": "display_data",
          "data": {
            "text/plain": [
              "<Figure size 432x288 with 1 Axes>"
            ],
            "image/png": "[encoded data removed]"
          },
          "metadata": {
            "needs_background": "light"
          }
        },
        {
          "output_type": "stream",
          "name": "stdout",
          "text": [
            "Accuracy rate of the model when k= 18 : 90.0 %\n",
            "Separation between Happy and Sad classes when k= 18 : 285.52259879287607\n"
          ]
        }
      ]
    }
  ]
}
